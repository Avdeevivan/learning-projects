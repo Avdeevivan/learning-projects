{
 "cells": [
  {
   "cell_type": "code",
   "execution_count": 1,
   "id": "6d68ffde",
   "metadata": {
    "_cell_guid": "b1076dfc-b9ad-4769-8c92-a6c4dae69d19",
    "_uuid": "8f2839f25d086af736a60e9eeb907d3b93b6e0e5",
    "execution": {
     "iopub.execute_input": "2025-02-12T11:29:57.458484Z",
     "iopub.status.busy": "2025-02-12T11:29:57.458042Z",
     "iopub.status.idle": "2025-02-12T11:30:00.690162Z",
     "shell.execute_reply": "2025-02-12T11:30:00.687652Z"
    },
    "papermill": {
     "duration": 3.241107,
     "end_time": "2025-02-12T11:30:00.693131",
     "exception": false,
     "start_time": "2025-02-12T11:29:57.452024",
     "status": "completed"
    },
    "tags": []
   },
   "outputs": [
    {
     "name": "stdout",
     "output_type": "stream",
     "text": [
      "/kaggle/input/titanic/train.csv\n",
      "/kaggle/input/titanic/test.csv\n",
      "/kaggle/input/titanic/gender_submission.csv\n"
     ]
    }
   ],
   "source": [
    "import numpy as np # linear algebra\n",
    "import pandas as pd # data processing, CSV file I/O (e.g. pd.read_csv)\n",
    "from sklearn.ensemble import RandomForestClassifier\n",
    "from sklearn.metrics import confusion_matrix\n",
    "from sklearn.impute import SimpleImputer\n",
    "import os\n",
    "for dirname, _, filenames in os.walk('/kaggle/input'):\n",
    "    for filename in filenames:\n",
    "        print(os.path.join(dirname, filename))\n"
   ]
  },
  {
   "cell_type": "code",
   "execution_count": 2,
   "id": "49d39110",
   "metadata": {
    "execution": {
     "iopub.execute_input": "2025-02-12T11:30:00.703736Z",
     "iopub.status.busy": "2025-02-12T11:30:00.703177Z",
     "iopub.status.idle": "2025-02-12T11:30:00.745498Z",
     "shell.execute_reply": "2025-02-12T11:30:00.743766Z"
    },
    "papermill": {
     "duration": 0.049617,
     "end_time": "2025-02-12T11:30:00.747672",
     "exception": false,
     "start_time": "2025-02-12T11:30:00.698055",
     "status": "completed"
    },
    "tags": []
   },
   "outputs": [],
   "source": [
    "data_train = pd.read_csv(\"/kaggle/input/titanic/train.csv\")\n",
    "data_test = pd.read_csv(\"/kaggle/input/titanic/test.csv\")\n",
    "data_gender_sub = pd.read_csv(\"/kaggle/input/titanic/gender_submission.csv\")"
   ]
  },
  {
   "cell_type": "code",
   "execution_count": 3,
   "id": "5947ae3b",
   "metadata": {
    "execution": {
     "iopub.execute_input": "2025-02-12T11:30:00.757583Z",
     "iopub.status.busy": "2025-02-12T11:30:00.757127Z",
     "iopub.status.idle": "2025-02-12T11:30:00.779974Z",
     "shell.execute_reply": "2025-02-12T11:30:00.778751Z"
    },
    "papermill": {
     "duration": 0.030355,
     "end_time": "2025-02-12T11:30:00.782351",
     "exception": false,
     "start_time": "2025-02-12T11:30:00.751996",
     "status": "completed"
    },
    "tags": []
   },
   "outputs": [
    {
     "data": {
      "text/html": [
       "<div>\n",
       "<style scoped>\n",
       "    .dataframe tbody tr th:only-of-type {\n",
       "        vertical-align: middle;\n",
       "    }\n",
       "\n",
       "    .dataframe tbody tr th {\n",
       "        vertical-align: top;\n",
       "    }\n",
       "\n",
       "    .dataframe thead th {\n",
       "        text-align: right;\n",
       "    }\n",
       "</style>\n",
       "<table border=\"1\" class=\"dataframe\">\n",
       "  <thead>\n",
       "    <tr style=\"text-align: right;\">\n",
       "      <th></th>\n",
       "      <th>PassengerId</th>\n",
       "      <th>Survived</th>\n",
       "    </tr>\n",
       "  </thead>\n",
       "  <tbody>\n",
       "    <tr>\n",
       "      <th>0</th>\n",
       "      <td>892</td>\n",
       "      <td>0</td>\n",
       "    </tr>\n",
       "    <tr>\n",
       "      <th>1</th>\n",
       "      <td>893</td>\n",
       "      <td>1</td>\n",
       "    </tr>\n",
       "    <tr>\n",
       "      <th>2</th>\n",
       "      <td>894</td>\n",
       "      <td>0</td>\n",
       "    </tr>\n",
       "    <tr>\n",
       "      <th>3</th>\n",
       "      <td>895</td>\n",
       "      <td>0</td>\n",
       "    </tr>\n",
       "    <tr>\n",
       "      <th>4</th>\n",
       "      <td>896</td>\n",
       "      <td>1</td>\n",
       "    </tr>\n",
       "    <tr>\n",
       "      <th>...</th>\n",
       "      <td>...</td>\n",
       "      <td>...</td>\n",
       "    </tr>\n",
       "    <tr>\n",
       "      <th>413</th>\n",
       "      <td>1305</td>\n",
       "      <td>0</td>\n",
       "    </tr>\n",
       "    <tr>\n",
       "      <th>414</th>\n",
       "      <td>1306</td>\n",
       "      <td>1</td>\n",
       "    </tr>\n",
       "    <tr>\n",
       "      <th>415</th>\n",
       "      <td>1307</td>\n",
       "      <td>0</td>\n",
       "    </tr>\n",
       "    <tr>\n",
       "      <th>416</th>\n",
       "      <td>1308</td>\n",
       "      <td>0</td>\n",
       "    </tr>\n",
       "    <tr>\n",
       "      <th>417</th>\n",
       "      <td>1309</td>\n",
       "      <td>0</td>\n",
       "    </tr>\n",
       "  </tbody>\n",
       "</table>\n",
       "<p>418 rows × 2 columns</p>\n",
       "</div>"
      ],
      "text/plain": [
       "     PassengerId  Survived\n",
       "0            892         0\n",
       "1            893         1\n",
       "2            894         0\n",
       "3            895         0\n",
       "4            896         1\n",
       "..           ...       ...\n",
       "413         1305         0\n",
       "414         1306         1\n",
       "415         1307         0\n",
       "416         1308         0\n",
       "417         1309         0\n",
       "\n",
       "[418 rows x 2 columns]"
      ]
     },
     "execution_count": 3,
     "metadata": {},
     "output_type": "execute_result"
    }
   ],
   "source": [
    "data_gender_sub"
   ]
  },
  {
   "cell_type": "code",
   "execution_count": 4,
   "id": "48a535a2",
   "metadata": {
    "execution": {
     "iopub.execute_input": "2025-02-12T11:30:00.792174Z",
     "iopub.status.busy": "2025-02-12T11:30:00.791843Z",
     "iopub.status.idle": "2025-02-12T11:30:00.819679Z",
     "shell.execute_reply": "2025-02-12T11:30:00.818584Z"
    },
    "papermill": {
     "duration": 0.034959,
     "end_time": "2025-02-12T11:30:00.821720",
     "exception": false,
     "start_time": "2025-02-12T11:30:00.786761",
     "status": "completed"
    },
    "tags": []
   },
   "outputs": [],
   "source": [
    "data_train['Cabin'].fillna(0, inplace=True)\n",
    "data_train.fillna(0, inplace=True)\n",
    "data_train = data_train.drop(columns = [\"Name\",\"Ticket\",\"Cabin\",\"PassengerId\"])\n",
    "data_train[\"Sex\"] = data_train[\"Sex\"].replace('male',0)\n",
    "data_train[\"Sex\"] = data_train[\"Sex\"].replace('female',1)\n",
    "data_train[\"Embarked\"] = data_train[\"Embarked\"].replace('S',1)\n",
    "data_train[\"Embarked\"] = data_train[\"Embarked\"].replace('C',2)\n",
    "data_train[\"Embarked\"] = data_train[\"Embarked\"].replace('Q',3)\n",
    "data_train[\"Age\"] = data_train[\"Age\"].replace(0,data_train[\"Age\"].median())"
   ]
  },
  {
   "cell_type": "code",
   "execution_count": 5,
   "id": "1218dca7",
   "metadata": {
    "execution": {
     "iopub.execute_input": "2025-02-12T11:30:00.832032Z",
     "iopub.status.busy": "2025-02-12T11:30:00.831670Z",
     "iopub.status.idle": "2025-02-12T11:30:00.844169Z",
     "shell.execute_reply": "2025-02-12T11:30:00.842995Z"
    },
    "papermill": {
     "duration": 0.019846,
     "end_time": "2025-02-12T11:30:00.845952",
     "exception": false,
     "start_time": "2025-02-12T11:30:00.826106",
     "status": "completed"
    },
    "tags": []
   },
   "outputs": [],
   "source": [
    "data_test.fillna({\"Cabin\": 0, \"Age\": data_test[\"Age\"].median()}, inplace=True)\n",
    "data_test.drop(columns=[\"Name\", \"Ticket\", \"Cabin\", \"PassengerId\"], inplace=True)\n",
    "data_test[\"Sex\"] = data_test[\"Sex\"].map({\"male\": 0, \"female\": 1})\n",
    "data_test[\"Embarked\"] = data_test[\"Embarked\"].map({\"S\": 1, \"C\": 2, \"Q\": 3})\n",
    "data_test[\"Age\"] = (data_test[\"Age\"] - data_test[\"Age\"].mean()) / data_test[\"Age\"].std()\n",
    "data_test[\"Fare\"] = (data_test[\"Fare\"] - data_test[\"Fare\"].mean()) / data_test[\"Fare\"].std()\n",
    "\n"
   ]
  },
  {
   "cell_type": "code",
   "execution_count": 6,
   "id": "0d40c335",
   "metadata": {
    "execution": {
     "iopub.execute_input": "2025-02-12T11:30:00.856197Z",
     "iopub.status.busy": "2025-02-12T11:30:00.855854Z",
     "iopub.status.idle": "2025-02-12T11:30:00.864989Z",
     "shell.execute_reply": "2025-02-12T11:30:00.863974Z"
    },
    "papermill": {
     "duration": 0.016489,
     "end_time": "2025-02-12T11:30:00.867227",
     "exception": false,
     "start_time": "2025-02-12T11:30:00.850738",
     "status": "completed"
    },
    "tags": []
   },
   "outputs": [],
   "source": [
    "data_train[\"Age\"] = (data_train[\"Age\"] - data_train[\"Age\"].mean())/data_train[\"Age\"].std()\n",
    "data_train[\"Fare\"] = (data_train[\"Fare\"] - data_train[\"Fare\"].mean())/data_train[\"Fare\"].std()\n",
    "target = data_train[\"Survived\"]\n",
    "data_train = data_train.drop(columns = [\"Survived\"])\n",
    "target = target.values.reshape(-1, 1)"
   ]
  },
  {
   "cell_type": "code",
   "execution_count": 7,
   "id": "dc51b7fe",
   "metadata": {
    "execution": {
     "iopub.execute_input": "2025-02-12T11:30:00.877077Z",
     "iopub.status.busy": "2025-02-12T11:30:00.876730Z",
     "iopub.status.idle": "2025-02-12T11:30:00.893547Z",
     "shell.execute_reply": "2025-02-12T11:30:00.892285Z"
    },
    "papermill": {
     "duration": 0.024272,
     "end_time": "2025-02-12T11:30:00.895874",
     "exception": false,
     "start_time": "2025-02-12T11:30:00.871602",
     "status": "completed"
    },
    "tags": []
   },
   "outputs": [
    {
     "data": {
      "text/html": [
       "<div>\n",
       "<style scoped>\n",
       "    .dataframe tbody tr th:only-of-type {\n",
       "        vertical-align: middle;\n",
       "    }\n",
       "\n",
       "    .dataframe tbody tr th {\n",
       "        vertical-align: top;\n",
       "    }\n",
       "\n",
       "    .dataframe thead th {\n",
       "        text-align: right;\n",
       "    }\n",
       "</style>\n",
       "<table border=\"1\" class=\"dataframe\">\n",
       "  <thead>\n",
       "    <tr style=\"text-align: right;\">\n",
       "      <th></th>\n",
       "      <th>Pclass</th>\n",
       "      <th>Sex</th>\n",
       "      <th>Age</th>\n",
       "      <th>SibSp</th>\n",
       "      <th>Parch</th>\n",
       "      <th>Fare</th>\n",
       "      <th>Embarked</th>\n",
       "    </tr>\n",
       "  </thead>\n",
       "  <tbody>\n",
       "    <tr>\n",
       "      <th>0</th>\n",
       "      <td>3</td>\n",
       "      <td>0</td>\n",
       "      <td>-0.497514</td>\n",
       "      <td>1</td>\n",
       "      <td>0</td>\n",
       "      <td>-0.502163</td>\n",
       "      <td>1</td>\n",
       "    </tr>\n",
       "    <tr>\n",
       "      <th>1</th>\n",
       "      <td>1</td>\n",
       "      <td>1</td>\n",
       "      <td>0.714647</td>\n",
       "      <td>1</td>\n",
       "      <td>0</td>\n",
       "      <td>0.786404</td>\n",
       "      <td>2</td>\n",
       "    </tr>\n",
       "    <tr>\n",
       "      <th>2</th>\n",
       "      <td>3</td>\n",
       "      <td>1</td>\n",
       "      <td>-0.194474</td>\n",
       "      <td>0</td>\n",
       "      <td>0</td>\n",
       "      <td>-0.488580</td>\n",
       "      <td>1</td>\n",
       "    </tr>\n",
       "    <tr>\n",
       "      <th>3</th>\n",
       "      <td>1</td>\n",
       "      <td>1</td>\n",
       "      <td>0.487367</td>\n",
       "      <td>1</td>\n",
       "      <td>0</td>\n",
       "      <td>0.420494</td>\n",
       "      <td>1</td>\n",
       "    </tr>\n",
       "    <tr>\n",
       "      <th>4</th>\n",
       "      <td>3</td>\n",
       "      <td>0</td>\n",
       "      <td>0.487367</td>\n",
       "      <td>0</td>\n",
       "      <td>0</td>\n",
       "      <td>-0.486064</td>\n",
       "      <td>1</td>\n",
       "    </tr>\n",
       "    <tr>\n",
       "      <th>...</th>\n",
       "      <td>...</td>\n",
       "      <td>...</td>\n",
       "      <td>...</td>\n",
       "      <td>...</td>\n",
       "      <td>...</td>\n",
       "      <td>...</td>\n",
       "      <td>...</td>\n",
       "    </tr>\n",
       "    <tr>\n",
       "      <th>886</th>\n",
       "      <td>2</td>\n",
       "      <td>0</td>\n",
       "      <td>-0.118714</td>\n",
       "      <td>0</td>\n",
       "      <td>0</td>\n",
       "      <td>-0.386454</td>\n",
       "      <td>1</td>\n",
       "    </tr>\n",
       "    <tr>\n",
       "      <th>887</th>\n",
       "      <td>1</td>\n",
       "      <td>1</td>\n",
       "      <td>-0.724794</td>\n",
       "      <td>0</td>\n",
       "      <td>0</td>\n",
       "      <td>-0.044356</td>\n",
       "      <td>1</td>\n",
       "    </tr>\n",
       "    <tr>\n",
       "      <th>888</th>\n",
       "      <td>3</td>\n",
       "      <td>1</td>\n",
       "      <td>-0.345994</td>\n",
       "      <td>1</td>\n",
       "      <td>2</td>\n",
       "      <td>-0.176164</td>\n",
       "      <td>1</td>\n",
       "    </tr>\n",
       "    <tr>\n",
       "      <th>889</th>\n",
       "      <td>1</td>\n",
       "      <td>0</td>\n",
       "      <td>-0.194474</td>\n",
       "      <td>0</td>\n",
       "      <td>0</td>\n",
       "      <td>-0.044356</td>\n",
       "      <td>2</td>\n",
       "    </tr>\n",
       "    <tr>\n",
       "      <th>890</th>\n",
       "      <td>3</td>\n",
       "      <td>0</td>\n",
       "      <td>0.260086</td>\n",
       "      <td>0</td>\n",
       "      <td>0</td>\n",
       "      <td>-0.492101</td>\n",
       "      <td>3</td>\n",
       "    </tr>\n",
       "  </tbody>\n",
       "</table>\n",
       "<p>891 rows × 7 columns</p>\n",
       "</div>"
      ],
      "text/plain": [
       "     Pclass  Sex       Age  SibSp  Parch      Fare  Embarked\n",
       "0         3    0 -0.497514      1      0 -0.502163         1\n",
       "1         1    1  0.714647      1      0  0.786404         2\n",
       "2         3    1 -0.194474      0      0 -0.488580         1\n",
       "3         1    1  0.487367      1      0  0.420494         1\n",
       "4         3    0  0.487367      0      0 -0.486064         1\n",
       "..      ...  ...       ...    ...    ...       ...       ...\n",
       "886       2    0 -0.118714      0      0 -0.386454         1\n",
       "887       1    1 -0.724794      0      0 -0.044356         1\n",
       "888       3    1 -0.345994      1      2 -0.176164         1\n",
       "889       1    0 -0.194474      0      0 -0.044356         2\n",
       "890       3    0  0.260086      0      0 -0.492101         3\n",
       "\n",
       "[891 rows x 7 columns]"
      ]
     },
     "execution_count": 7,
     "metadata": {},
     "output_type": "execute_result"
    }
   ],
   "source": [
    "target.shape\n",
    "data_train"
   ]
  },
  {
   "cell_type": "code",
   "execution_count": 8,
   "id": "082e524b",
   "metadata": {
    "execution": {
     "iopub.execute_input": "2025-02-12T11:30:00.906717Z",
     "iopub.status.busy": "2025-02-12T11:30:00.906208Z",
     "iopub.status.idle": "2025-02-12T11:30:00.918821Z",
     "shell.execute_reply": "2025-02-12T11:30:00.917525Z"
    },
    "papermill": {
     "duration": 0.020108,
     "end_time": "2025-02-12T11:30:00.920780",
     "exception": false,
     "start_time": "2025-02-12T11:30:00.900672",
     "status": "completed"
    },
    "tags": []
   },
   "outputs": [],
   "source": [
    "import numpy as np\n",
    "\n",
    "class LogisticRegression:\n",
    "    def __init__(self, learning_rate=0.01, max_iter=1000, tolerance=1e-4):\n",
    "        self.learning_rate = learning_rate\n",
    "        self.max_iter = max_iter\n",
    "        self.tolerance = tolerance\n",
    "        self.weights = None\n",
    "        self.loss_history = []\n",
    "\n",
    "    def sigmoid(self, z):\n",
    "        return 1 / (1 + np.exp(-z))\n",
    "\n",
    "    def compute_loss(self, X, y, predict):\n",
    "        return -1 / X.shape[0] * np.sum(y * np.log(predict) + (1 - y) * np.log(1 - predict))\n",
    "\n",
    "    def fit(self, X, y, num_epoch):\n",
    "        bias = np.ones((X.shape[0], 1))\n",
    "        X = np.concatenate((bias, X), axis=1)\n",
    "        num_features = X.shape[1]\n",
    "        self.weights = np.zeros((X.shape[1], 1), dtype=np.float64)\n",
    "\n",
    "        for epoch in range(num_epoch):\n",
    "            z = X @ self.weights\n",
    "            P = self.sigmoid(z)\n",
    "            error = P - y\n",
    "            N = X.shape[0]\n",
    "            gradient = (1 / N) * X.T @ error\n",
    "            self.weights = self.weights - self.learning_rate * gradient\n",
    "            loss = self.compute_loss(X, y, P)\n",
    "            self.loss_history.append(loss)\n",
    "            \n",
    "\n",
    "    def predict(self, X):\n",
    "        bias = np.ones((X.shape[0], 1))\n",
    "        X = np.concatenate((bias, X), axis=1) @ self.weights\n",
    "        P = self.sigmoid(X)\n",
    "        pred = (P > 0.45).astype(int)\n",
    "        return pred\n",
    "    def confusion_matrix_elements(self, y_true, y_pred):\n",
    "        TP = np.sum((y_true == 1) & (y_pred == 1))\n",
    "        FP = np.sum((y_true == 0) & (y_pred == 1))\n",
    "        FN = np.sum((y_true == 1) & (y_pred == 0))\n",
    "        TN = np.sum((y_true == 0) & (y_pred == 0))\n",
    "        return TP, FP, FN, TN\n",
    "    def accuracy_score(self,TP, FP, FN, TN):\n",
    "        return (TP + TN) / (TP + FP + FN + TN)\n",
    "    def recall_score(self,TP,FN):\n",
    "        return TP / (TP + FN)\n",
    "    def precision_score(self,TP,FP):\n",
    "        return TP / (TP + FP)\n",
    "    def plot_loss(self):\n",
    "        \"\"\"Строит график изменения функции потерь по итерациям.\"\"\"\n"
   ]
  },
  {
   "cell_type": "code",
   "execution_count": 9,
   "id": "9e63607e",
   "metadata": {
    "execution": {
     "iopub.execute_input": "2025-02-12T11:30:00.931126Z",
     "iopub.status.busy": "2025-02-12T11:30:00.930769Z",
     "iopub.status.idle": "2025-02-12T11:30:00.936481Z",
     "shell.execute_reply": "2025-02-12T11:30:00.935106Z"
    },
    "papermill": {
     "duration": 0.013026,
     "end_time": "2025-02-12T11:30:00.938450",
     "exception": false,
     "start_time": "2025-02-12T11:30:00.925424",
     "status": "completed"
    },
    "tags": []
   },
   "outputs": [],
   "source": [
    "data_gender_sub = data_gender_sub.drop(columns = [\"PassengerId\"])"
   ]
  },
  {
   "cell_type": "code",
   "execution_count": 10,
   "id": "ed2bcae1",
   "metadata": {
    "execution": {
     "iopub.execute_input": "2025-02-12T11:30:00.948531Z",
     "iopub.status.busy": "2025-02-12T11:30:00.948141Z",
     "iopub.status.idle": "2025-02-12T11:30:00.973454Z",
     "shell.execute_reply": "2025-02-12T11:30:00.971618Z"
    },
    "papermill": {
     "duration": 0.032625,
     "end_time": "2025-02-12T11:30:00.975495",
     "exception": false,
     "start_time": "2025-02-12T11:30:00.942870",
     "status": "completed"
    },
    "tags": []
   },
   "outputs": [],
   "source": [
    "lr = 0.001\n",
    "epochs = 200\n",
    "model = LogisticRegression(learning_rate=lr, max_iter=epochs)\n",
    "model.fit(data_train, target, num_epoch=epochs)\n",
    "        \n",
    "y_pred = model.predict(data_test)        \n",
    "TP, FP, FN, TN = model.confusion_matrix_elements(data_gender_sub[\"Survived\"], y_pred.flatten())\n",
    "accuracy = model.accuracy_score(TP, FP, FN, TN)\n",
    "recall = model.recall_score(TP, FN)\n",
    "precision = model.precision_score(TP, FP)"
   ]
  },
  {
   "cell_type": "code",
   "execution_count": 11,
   "id": "048d3668",
   "metadata": {
    "execution": {
     "iopub.execute_input": "2025-02-12T11:30:00.985839Z",
     "iopub.status.busy": "2025-02-12T11:30:00.985492Z",
     "iopub.status.idle": "2025-02-12T11:30:00.992721Z",
     "shell.execute_reply": "2025-02-12T11:30:00.991542Z"
    },
    "papermill": {
     "duration": 0.014516,
     "end_time": "2025-02-12T11:30:00.994744",
     "exception": false,
     "start_time": "2025-02-12T11:30:00.980228",
     "status": "completed"
    },
    "tags": []
   },
   "outputs": [
    {
     "name": "stdout",
     "output_type": "stream",
     "text": [
      "80 114 72 152 0.5550239234449761 0.5263157894736842 0.41237113402061853\n"
     ]
    }
   ],
   "source": [
    "print(TP, FP, FN, TN,accuracy,recall,precision)"
   ]
  },
  {
   "cell_type": "code",
   "execution_count": 12,
   "id": "d0b53ca2",
   "metadata": {
    "execution": {
     "iopub.execute_input": "2025-02-12T11:30:01.005997Z",
     "iopub.status.busy": "2025-02-12T11:30:01.005617Z",
     "iopub.status.idle": "2025-02-12T11:30:01.011642Z",
     "shell.execute_reply": "2025-02-12T11:30:01.010559Z"
    },
    "papermill": {
     "duration": 0.014041,
     "end_time": "2025-02-12T11:30:01.013613",
     "exception": false,
     "start_time": "2025-02-12T11:30:00.999572",
     "status": "completed"
    },
    "tags": []
   },
   "outputs": [
    {
     "data": {
      "text/plain": [
       "(891, 7)"
      ]
     },
     "execution_count": 12,
     "metadata": {},
     "output_type": "execute_result"
    }
   ],
   "source": [
    "\n",
    "target.shape\n",
    "data_train.shape\n"
   ]
  },
  {
   "cell_type": "code",
   "execution_count": 13,
   "id": "dde32a9c",
   "metadata": {
    "execution": {
     "iopub.execute_input": "2025-02-12T11:30:01.024745Z",
     "iopub.status.busy": "2025-02-12T11:30:01.024235Z",
     "iopub.status.idle": "2025-02-12T11:30:01.267324Z",
     "shell.execute_reply": "2025-02-12T11:30:01.266052Z"
    },
    "papermill": {
     "duration": 0.25092,
     "end_time": "2025-02-12T11:30:01.269341",
     "exception": false,
     "start_time": "2025-02-12T11:30:01.018421",
     "status": "completed"
    },
    "tags": []
   },
   "outputs": [],
   "source": [
    "imputer = SimpleImputer(strategy='mean')\n",
    "data_train_imputed = imputer.fit_transform(data_train)\n",
    "data_test_imputed = imputer.transform(data_test)\n",
    "\n",
    "model = RandomForestClassifier(n_estimators=100, random_state=42)\n",
    "model.fit(data_train_imputed,target.ravel())\n",
    "y_pred = model.predict(data_test_imputed)\n",
    "\n",
    "\n",
    "analys = confusion_matrix(data_gender_sub[\"Survived\"], y_pred.flatten())"
   ]
  },
  {
   "cell_type": "code",
   "execution_count": 14,
   "id": "13963ad7",
   "metadata": {
    "execution": {
     "iopub.execute_input": "2025-02-12T11:30:01.279791Z",
     "iopub.status.busy": "2025-02-12T11:30:01.279445Z",
     "iopub.status.idle": "2025-02-12T11:30:01.284868Z",
     "shell.execute_reply": "2025-02-12T11:30:01.283444Z"
    },
    "papermill": {
     "duration": 0.012699,
     "end_time": "2025-02-12T11:30:01.286697",
     "exception": false,
     "start_time": "2025-02-12T11:30:01.273998",
     "status": "completed"
    },
    "tags": []
   },
   "outputs": [
    {
     "name": "stdout",
     "output_type": "stream",
     "text": [
      "[[237  29]\n",
      " [ 43 109]]\n"
     ]
    }
   ],
   "source": [
    "print(analys)"
   ]
  },
  {
   "cell_type": "code",
   "execution_count": null,
   "id": "9326dc23",
   "metadata": {
    "papermill": {
     "duration": 0.004271,
     "end_time": "2025-02-12T11:30:01.296088",
     "exception": false,
     "start_time": "2025-02-12T11:30:01.291817",
     "status": "completed"
    },
    "tags": []
   },
   "outputs": [],
   "source": []
  }
 ],
 "metadata": {
  "kaggle": {
   "accelerator": "none",
   "dataSources": [
    {
     "databundleVersionId": 26502,
     "sourceId": 3136,
     "sourceType": "competition"
    }
   ],
   "dockerImageVersionId": 30822,
   "isGpuEnabled": false,
   "isInternetEnabled": true,
   "language": "python",
   "sourceType": "notebook"
  },
  "kernelspec": {
   "display_name": "Python 3",
   "language": "python",
   "name": "python3"
  },
  "language_info": {
   "codemirror_mode": {
    "name": "ipython",
    "version": 3
   },
   "file_extension": ".py",
   "mimetype": "text/x-python",
   "name": "python",
   "nbconvert_exporter": "python",
   "pygments_lexer": "ipython3",
   "version": "3.10.12"
  },
  "papermill": {
   "default_parameters": {},
   "duration": 7.642665,
   "end_time": "2025-02-12T11:30:02.021620",
   "environment_variables": {},
   "exception": null,
   "input_path": "__notebook__.ipynb",
   "output_path": "__notebook__.ipynb",
   "parameters": {},
   "start_time": "2025-02-12T11:29:54.378955",
   "version": "2.6.0"
  }
 },
 "nbformat": 4,
 "nbformat_minor": 5
}
